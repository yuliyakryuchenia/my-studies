{
 "cells": [
  {
   "cell_type": "markdown",
   "metadata": {
    "id": "jL6proKZHyCd"
   },
   "source": [
    "В этой практической работе три обязательные задачи и одна дополнительная.\n",
    "\n",
    "*Обязательные задачи* нужно сделать для того, чтобы проверить, что вы действительно усвоили материал модуля. Сдайте их на проверку.\n",
    "\n",
    "*Дополнительная задача* для тех, кто чувствует, что нужно ещё немного потренироваться в подборе правильных критериев для проверки гипотез. Вы также можете сдать её на проверку и получить обратную связь.\n",
    "\n",
    "Удачи!"
   ]
  },
  {
   "cell_type": "markdown",
   "metadata": {
    "id": "BLJbZ5gzH9Vg"
   },
   "source": [
    "## Цели практической работы\n",
    "\n",
    "Проверить:\n",
    "*   постановку нулевых и альтернативных гипотез,\n",
    "*   выбор статистического критерия для проверки гипотез,\n",
    "*   умение пользоваться Т-критериями,\n",
    "*   умение пользоваться непараметрическими критериями.\n",
    "\n",
    "Потренироваться в постановке односторонних и двусторонних тестов."
   ]
  },
  {
   "cell_type": "markdown",
   "metadata": {
    "id": "jN1RM6fZK5DI"
   },
   "source": [
    "## Что оценивается\n",
    "\n",
    "*   Все условия для применения критерия проверены.\n",
    "*   Применение того или иного критерия обосновано текстом.\n",
    "*   В каждой задаче присутствует текстовое объяснение почему нулевая гипотеза не может быть отвергнута.\n",
    "\n",
    "\n"
   ]
  },
  {
   "cell_type": "markdown",
   "metadata": {
    "id": "ZOTe8UqSUBmb"
   },
   "source": [
    "## Как отправить работу на проверку\n",
    "Сдайте практическую работу этого модуля через систему контроля версий Git сервиса Skillbox GitLab. После загрузки работы на проверку напишите об этом в личном кабинете своему куратору.\n"
   ]
  },
  {
   "cell_type": "markdown",
   "metadata": {
    "id": "bOgTruI9KsMk"
   },
   "source": [
    "##Обязательные задачи"
   ]
  },
  {
   "cell_type": "markdown",
   "metadata": {
    "id": "bG_LS69wLHlU"
   },
   "source": [
    "*Задача 1*\n",
    "\n",
    "Студентов с одним и тем же начальным уровнем английского языка поделили на две группы. Одну группу учили по методике X, а другую по методике Y. После прохождения обучения им дали одинаковые финальные тесты на знание языка. За тест можно получить от 0 до 100 баллов. Проверьте, являются ли статистически значимыми различия в оценках между группой, которая училась по методике X, и группой, которая училась по методике Y.\n",
    "______________\n",
    "Опишите словами нулевую и альтернативную гипотезы. Проверьте гипотезы с помощью статистического критерия. Интерпретируйте получившиеся результаты. Уровень значимости = 5%."
   ]
  },
  {
   "cell_type": "markdown",
   "metadata": {
    "id": "gXhHbVOdSfFQ"
   },
   "source": [
    "Нулевая гипотеза: Различий в оценках между группой, которая училась по методике X, и группой, которая училась по методике Y нет.\n",
    "\n",
    "Альтернативная гипотеза: Различия в оценках между группой, которая училась по методике X, и группой, которая училась по методике Y есть."
   ]
  },
  {
   "cell_type": "code",
   "execution_count": 1,
   "metadata": {
    "colab": {
     "base_uri": "https://localhost:8080/"
    },
    "id": "QyB6MSUoUgs9",
    "outputId": "aeb9505d-3468-47f5-863a-63d41c9c924a"
   },
   "outputs": [
    {
     "name": "stdout",
     "output_type": "stream",
     "text": [
      "Requirement already satisfied: scipy==1.7.1 in c:\\anaconda\\lib\\site-packages (1.7.1)\n",
      "Requirement already satisfied: numpy<1.23.0,>=1.16.5 in c:\\anaconda\\lib\\site-packages (from scipy==1.7.1) (1.20.3)\n"
     ]
    }
   ],
   "source": [
    "# строка для тех, кто работает в colab\n",
    "!pip install scipy==1.7.1"
   ]
  },
  {
   "cell_type": "code",
   "execution_count": 3,
   "metadata": {
    "colab": {
     "base_uri": "https://localhost:8080/",
     "height": 206
    },
    "id": "KtWhOWs0S4gu",
    "outputId": "6653afc9-68f4-4941-b1d9-7dcf7e01b97f"
   },
   "outputs": [
    {
     "data": {
      "text/html": [
       "<div>\n",
       "<style scoped>\n",
       "    .dataframe tbody tr th:only-of-type {\n",
       "        vertical-align: middle;\n",
       "    }\n",
       "\n",
       "    .dataframe tbody tr th {\n",
       "        vertical-align: top;\n",
       "    }\n",
       "\n",
       "    .dataframe thead th {\n",
       "        text-align: right;\n",
       "    }\n",
       "</style>\n",
       "<table border=\"1\" class=\"dataframe\">\n",
       "  <thead>\n",
       "    <tr style=\"text-align: right;\">\n",
       "      <th></th>\n",
       "      <th>X</th>\n",
       "      <th>Y</th>\n",
       "    </tr>\n",
       "  </thead>\n",
       "  <tbody>\n",
       "    <tr>\n",
       "      <th>0</th>\n",
       "      <td>57</td>\n",
       "      <td>64</td>\n",
       "    </tr>\n",
       "    <tr>\n",
       "      <th>1</th>\n",
       "      <td>67</td>\n",
       "      <td>67</td>\n",
       "    </tr>\n",
       "    <tr>\n",
       "      <th>2</th>\n",
       "      <td>58</td>\n",
       "      <td>62</td>\n",
       "    </tr>\n",
       "    <tr>\n",
       "      <th>3</th>\n",
       "      <td>55</td>\n",
       "      <td>59</td>\n",
       "    </tr>\n",
       "    <tr>\n",
       "      <th>4</th>\n",
       "      <td>54</td>\n",
       "      <td>65</td>\n",
       "    </tr>\n",
       "  </tbody>\n",
       "</table>\n",
       "</div>"
      ],
      "text/plain": [
       "    X   Y\n",
       "0  57  64\n",
       "1  67  67\n",
       "2  58  62\n",
       "3  55  59\n",
       "4  54  65"
      ]
     },
     "execution_count": 3,
     "metadata": {},
     "output_type": "execute_result"
    }
   ],
   "source": [
    "import pandas as pd\n",
    "from scipy import stats\n",
    "\n",
    "df = pd.read_csv('data/hw1.csv')\n",
    "df.head()"
   ]
  },
  {
   "cell_type": "code",
   "execution_count": 6,
   "metadata": {
    "id": "U_3vxsvIU9W_"
   },
   "outputs": [
    {
     "name": "stdout",
     "output_type": "stream",
     "text": [
      "ShapiroResult(statistic=0.9843736886978149, pvalue=0.28597292304039)\n",
      "ShapiroResult(statistic=0.986425518989563, pvalue=0.4001672565937042)\n"
     ]
    }
   ],
   "source": [
    " #проводим тест Шапиро для двух выборок, чтобы сделать вывод о нормальности распределения\n",
    "print(stats.shapiro(df.X))\n",
    "print(stats.shapiro(df.Y))"
   ]
  },
  {
   "cell_type": "markdown",
   "metadata": {},
   "source": [
    "Pvalue в одном и другом случае больше 0.05, следовательно делаем вывод, что распределение является нормальным."
   ]
  },
  {
   "cell_type": "code",
   "execution_count": 10,
   "metadata": {},
   "outputs": [
    {
     "data": {
      "text/plain": [
       "LeveneResult(statistic=21.696306698497402, pvalue=5.850812069599258e-06)"
      ]
     },
     "execution_count": 10,
     "metadata": {},
     "output_type": "execute_result"
    }
   ],
   "source": [
    " #проводим тест Левена для двух выборок, чтобы узнать равны ли дисперсии.\n",
    "stats.levene(df.X, df.Y)"
   ]
  },
  {
   "cell_type": "markdown",
   "metadata": {},
   "source": [
    "Pvalue очень мало, значит дисперсии не равны"
   ]
  },
  {
   "cell_type": "code",
   "execution_count": 11,
   "metadata": {},
   "outputs": [
    {
     "data": {
      "text/plain": [
       "Ttest_indResult(statistic=-0.6292883911384963, pvalue=0.5300187896437802)"
      ]
     },
     "execution_count": 11,
     "metadata": {},
     "output_type": "execute_result"
    }
   ],
   "source": [
    " #используем Т-критерий Уэлча\n",
    "stats.ttest_ind(df.X, df.Y, equal_var = False)"
   ]
  },
  {
   "cell_type": "markdown",
   "metadata": {},
   "source": [
    "Pvalue больше 0.05, следовательно делаем вывод, что нулевая гипотеза верна, то есть различий в оценках между группой, которая училась по методике X, и группой, которая училась по методике Y нет."
   ]
  },
  {
   "cell_type": "markdown",
   "metadata": {
    "id": "XXDqTE7XVk8f"
   },
   "source": [
    "*Задача 2*\n",
    "\n",
    "Ученые придумали добавку для уменьшения веса за две недели. Для проведения эксперимента и проверки добавки набрали тестовую группу из 60 человек. Было произведено два замера веса: один до приема добавок, другой после двухнедельного курса. Изучите данные и сделайте вывод, значимо или незначимо уменьшился вес у тестовой группы.\n",
    "\n",
    "______________\n",
    "Опишите словами нулевую и альтернативную гипотезы. Проверьте гипотезы с помощью статистического критерия. Интерпретируйте получившиеся результаты. Уровень значимости = 5%."
   ]
  },
  {
   "cell_type": "markdown",
   "metadata": {
    "id": "qvgKE4U-YPPK"
   },
   "source": [
    "Нулевая гипотеза: вес у тестовой группы не изменился\n",
    "\n",
    "Альтернативная гипотеза: вес у тестовой группы уменьшился"
   ]
  },
  {
   "cell_type": "code",
   "execution_count": 12,
   "metadata": {
    "colab": {
     "base_uri": "https://localhost:8080/",
     "height": 206
    },
    "id": "ccpF8rNhY63i",
    "outputId": "26ca18a8-75f0-4002-b529-1c538e9d1429"
   },
   "outputs": [
    {
     "data": {
      "text/html": [
       "<div>\n",
       "<style scoped>\n",
       "    .dataframe tbody tr th:only-of-type {\n",
       "        vertical-align: middle;\n",
       "    }\n",
       "\n",
       "    .dataframe tbody tr th {\n",
       "        vertical-align: top;\n",
       "    }\n",
       "\n",
       "    .dataframe thead th {\n",
       "        text-align: right;\n",
       "    }\n",
       "</style>\n",
       "<table border=\"1\" class=\"dataframe\">\n",
       "  <thead>\n",
       "    <tr style=\"text-align: right;\">\n",
       "      <th></th>\n",
       "      <th>before</th>\n",
       "      <th>after</th>\n",
       "    </tr>\n",
       "  </thead>\n",
       "  <tbody>\n",
       "    <tr>\n",
       "      <th>0</th>\n",
       "      <td>66</td>\n",
       "      <td>68</td>\n",
       "    </tr>\n",
       "    <tr>\n",
       "      <th>1</th>\n",
       "      <td>68</td>\n",
       "      <td>68</td>\n",
       "    </tr>\n",
       "    <tr>\n",
       "      <th>2</th>\n",
       "      <td>59</td>\n",
       "      <td>60</td>\n",
       "    </tr>\n",
       "    <tr>\n",
       "      <th>3</th>\n",
       "      <td>64</td>\n",
       "      <td>62</td>\n",
       "    </tr>\n",
       "    <tr>\n",
       "      <th>4</th>\n",
       "      <td>75</td>\n",
       "      <td>71</td>\n",
       "    </tr>\n",
       "  </tbody>\n",
       "</table>\n",
       "</div>"
      ],
      "text/plain": [
       "   before  after\n",
       "0      66     68\n",
       "1      68     68\n",
       "2      59     60\n",
       "3      64     62\n",
       "4      75     71"
      ]
     },
     "execution_count": 12,
     "metadata": {},
     "output_type": "execute_result"
    }
   ],
   "source": [
    "df2 = pd.read_csv('data/hw2.csv')\n",
    "df2.head()"
   ]
  },
  {
   "cell_type": "code",
   "execution_count": 13,
   "metadata": {
    "id": "mXcCNKPHm6mm"
   },
   "outputs": [
    {
     "name": "stdout",
     "output_type": "stream",
     "text": [
      "ShapiroResult(statistic=0.9824520349502563, pvalue=0.5405492782592773)\n",
      "ShapiroResult(statistic=0.9882316589355469, pvalue=0.8322210311889648)\n"
     ]
    }
   ],
   "source": [
    " #проводим тест Шапиро для двух выборок, чтобы сделать вывод о нормальности распределения\n",
    "print(stats.shapiro(df2.before))\n",
    "print(stats.shapiro(df2.after))"
   ]
  },
  {
   "cell_type": "markdown",
   "metadata": {},
   "source": [
    "Pvalue в одном и другом случае больше 0.05, следовательно делаем вывод, что распределение является нормальным. Т.к. выборки зависимы друг от друга, то используем парный Т-критерий"
   ]
  },
  {
   "cell_type": "code",
   "execution_count": 14,
   "metadata": {},
   "outputs": [
    {
     "data": {
      "text/plain": [
       "Ttest_relResult(statistic=2.055925757507072, pvalue=0.02211135004801021)"
      ]
     },
     "execution_count": 14,
     "metadata": {},
     "output_type": "execute_result"
    }
   ],
   "source": [
    " #используем парный Т-критерий\n",
    "stats.ttest_rel(df2.before, df2.after, alternative = 'greater')"
   ]
  },
  {
   "cell_type": "markdown",
   "metadata": {},
   "source": [
    "Pvalue меньше 0.05, следовательно делаем вывод, что нулевая гипотеза не верна, верна альтернативная гипотеза, т.е. вес у тестовой группы уменьшился."
   ]
  },
  {
   "cell_type": "markdown",
   "metadata": {
    "id": "ZluM1nuLm2zT"
   },
   "source": [
    "*Задача 3*\n",
    "\n",
    "Вы работаете аналитиком в приложении, которое собирает новости по интересам пользователя. Например, если пользователь увлечен книгами,  то приложение будет собирать ему самые свежие новости по новым книгам. Вы заметили, что пользователи редко посещают ваше приложение, а вам хотелось бы поднять их активность и видеть, что они заходят в приложение каждый день или еще чаще. То есть поднять их заинтересованность. \n",
    "\n",
    "Вы и группа разработки решили присылать уведомления раз в день с самой популярной новостью по тематикам пользователя. Теперь вам нужно проверить, что эта гипотеза сработала, и заинтересованность пользователя выросла.\n",
    "______________________\n",
    "В датасете для каждого пользователя указано, сколько раз в неделю он заходил до появления уведомлений (колонка `before`) и сколько раз в неделю он стал заходить в приложение после появления уведомлений (колонка `after`)\n",
    "______________\n",
    "Опишите словами нулевую и альтернативную гипотезы. Проверьте гипотезы с помощью статистического критерия. Интерпретируйте получившиеся результаты. Уровень значимости = 5%."
   ]
  },
  {
   "cell_type": "markdown",
   "metadata": {
    "id": "VaHETRjVwoO_"
   },
   "source": [
    "Нулевая гипотеза: Заинтересованность пользователей не изменилась.\n",
    "Альтернативная гипотеза: Заинтересованность пользователей выросла."
   ]
  },
  {
   "cell_type": "code",
   "execution_count": 15,
   "metadata": {
    "colab": {
     "base_uri": "https://localhost:8080/",
     "height": 206
    },
    "id": "iyF3jIbExrb9",
    "outputId": "81123aab-bdf5-4e5c-a94f-ce5e1c65486e"
   },
   "outputs": [
    {
     "data": {
      "text/html": [
       "<div>\n",
       "<style scoped>\n",
       "    .dataframe tbody tr th:only-of-type {\n",
       "        vertical-align: middle;\n",
       "    }\n",
       "\n",
       "    .dataframe tbody tr th {\n",
       "        vertical-align: top;\n",
       "    }\n",
       "\n",
       "    .dataframe thead th {\n",
       "        text-align: right;\n",
       "    }\n",
       "</style>\n",
       "<table border=\"1\" class=\"dataframe\">\n",
       "  <thead>\n",
       "    <tr style=\"text-align: right;\">\n",
       "      <th></th>\n",
       "      <th>id</th>\n",
       "      <th>before</th>\n",
       "      <th>after</th>\n",
       "    </tr>\n",
       "  </thead>\n",
       "  <tbody>\n",
       "    <tr>\n",
       "      <th>0</th>\n",
       "      <td>15</td>\n",
       "      <td>3</td>\n",
       "      <td>11</td>\n",
       "    </tr>\n",
       "    <tr>\n",
       "      <th>1</th>\n",
       "      <td>7</td>\n",
       "      <td>6</td>\n",
       "      <td>13</td>\n",
       "    </tr>\n",
       "    <tr>\n",
       "      <th>2</th>\n",
       "      <td>6</td>\n",
       "      <td>3</td>\n",
       "      <td>8</td>\n",
       "    </tr>\n",
       "    <tr>\n",
       "      <th>3</th>\n",
       "      <td>13</td>\n",
       "      <td>1</td>\n",
       "      <td>14</td>\n",
       "    </tr>\n",
       "    <tr>\n",
       "      <th>4</th>\n",
       "      <td>11</td>\n",
       "      <td>3</td>\n",
       "      <td>4</td>\n",
       "    </tr>\n",
       "  </tbody>\n",
       "</table>\n",
       "</div>"
      ],
      "text/plain": [
       "   id  before  after\n",
       "0  15       3     11\n",
       "1   7       6     13\n",
       "2   6       3      8\n",
       "3  13       1     14\n",
       "4  11       3      4"
      ]
     },
     "execution_count": 15,
     "metadata": {},
     "output_type": "execute_result"
    }
   ],
   "source": [
    "df3 = pd.read_csv('data/hw3.csv')\n",
    "df3.head()"
   ]
  },
  {
   "cell_type": "code",
   "execution_count": 17,
   "metadata": {
    "id": "UrAZs5og1hsM"
   },
   "outputs": [
    {
     "name": "stdout",
     "output_type": "stream",
     "text": [
      "ShapiroResult(statistic=0.9109629392623901, pvalue=0.0011287692468613386)\n",
      "ShapiroResult(statistic=0.9323503375053406, pvalue=0.006789296865463257)\n"
     ]
    }
   ],
   "source": [
    " #проводим тест Шапиро для двух выборок, чтобы сделать вывод о нормальности распределения\n",
    "print(stats.shapiro(df3.before))\n",
    "print(stats.shapiro(df3.after))"
   ]
  },
  {
   "cell_type": "markdown",
   "metadata": {},
   "source": [
    "Pvalue в одном и другом случае меньше 0.05, следовательно делаем вывод, что распределение не является нормальным. Т.к. выборки зависимы друг от друга, то используем критерий Вилкоксона"
   ]
  },
  {
   "cell_type": "code",
   "execution_count": 19,
   "metadata": {},
   "outputs": [
    {
     "data": {
      "text/plain": [
       "WilcoxonResult(statistic=161.5, pvalue=1.6672412784258823e-05)"
      ]
     },
     "execution_count": 19,
     "metadata": {},
     "output_type": "execute_result"
    }
   ],
   "source": [
    "stats.wilcoxon(df3.before, df3.after, alternative = 'less')"
   ]
  },
  {
   "cell_type": "markdown",
   "metadata": {},
   "source": [
    "Pvalue меньше 0.05, следовательно делаем вывод, что нулевая гипотеза не верна, верна альтернативная гипотеза, т.е. заинтересованность пользователей выросла."
   ]
  },
  {
   "cell_type": "markdown",
   "metadata": {
    "id": "VqjPEqao1kgH"
   },
   "source": [
    "## Дополнительная задача"
   ]
  },
  {
   "cell_type": "markdown",
   "metadata": {
    "id": "9nUKkn9J1ut-"
   },
   "source": [
    "*Задача 4*\n",
    "\n",
    "Компания X тестирует продажу своего продукта через два разных сайта. На оба сайта приходит одинаковое количество пользователей. Причем выборки пользователей не пересекаются, то есть если пользователь увидел сайт 1, он уже не посетит сайт 2. Проверьте гипотезу, что средний чек по пользователям на сайте 1 отличается от среднего чека пользователей на сайте 2 (период сравнения — один месяц).\n",
    "\n",
    "Опишите словами нулевую и альтернативную гипотезы. Проверьте гипотезы с помощью статистического критерия. Интерпретируйте получившиеся результаты. Уровень значимости = 5%."
   ]
  },
  {
   "cell_type": "markdown",
   "metadata": {
    "id": "eZJF5ENq4MT8"
   },
   "source": [
    "Нулевая гипотеза: Средний чек по пользователям на сайте 1 не отличается от среднего чека пользователей на сайте 2.\n",
    "\n",
    "Альтернативная гипотеза: Средний чек по пользователям на сайте 1 отличается от среднего чека пользователей на сайте 2."
   ]
  },
  {
   "cell_type": "code",
   "execution_count": 20,
   "metadata": {
    "id": "S2LOrCU2PYoD"
   },
   "outputs": [
    {
     "data": {
      "text/html": [
       "<div>\n",
       "<style scoped>\n",
       "    .dataframe tbody tr th:only-of-type {\n",
       "        vertical-align: middle;\n",
       "    }\n",
       "\n",
       "    .dataframe tbody tr th {\n",
       "        vertical-align: top;\n",
       "    }\n",
       "\n",
       "    .dataframe thead th {\n",
       "        text-align: right;\n",
       "    }\n",
       "</style>\n",
       "<table border=\"1\" class=\"dataframe\">\n",
       "  <thead>\n",
       "    <tr style=\"text-align: right;\">\n",
       "      <th></th>\n",
       "      <th>site1</th>\n",
       "      <th>site2</th>\n",
       "    </tr>\n",
       "  </thead>\n",
       "  <tbody>\n",
       "    <tr>\n",
       "      <th>0</th>\n",
       "      <td>193</td>\n",
       "      <td>720</td>\n",
       "    </tr>\n",
       "    <tr>\n",
       "      <th>1</th>\n",
       "      <td>8426</td>\n",
       "      <td>2099</td>\n",
       "    </tr>\n",
       "    <tr>\n",
       "      <th>2</th>\n",
       "      <td>4024</td>\n",
       "      <td>2282</td>\n",
       "    </tr>\n",
       "    <tr>\n",
       "      <th>3</th>\n",
       "      <td>1447</td>\n",
       "      <td>2455</td>\n",
       "    </tr>\n",
       "    <tr>\n",
       "      <th>4</th>\n",
       "      <td>2274</td>\n",
       "      <td>7988</td>\n",
       "    </tr>\n",
       "  </tbody>\n",
       "</table>\n",
       "</div>"
      ],
      "text/plain": [
       "   site1  site2\n",
       "0    193    720\n",
       "1   8426   2099\n",
       "2   4024   2282\n",
       "3   1447   2455\n",
       "4   2274   7988"
      ]
     },
     "execution_count": 20,
     "metadata": {},
     "output_type": "execute_result"
    }
   ],
   "source": [
    "df4 = pd.read_csv('data/hw4.csv')\n",
    "df4.head()"
   ]
  },
  {
   "cell_type": "code",
   "execution_count": 21,
   "metadata": {
    "id": "fuoCJrgzVszS"
   },
   "outputs": [
    {
     "name": "stdout",
     "output_type": "stream",
     "text": [
      "ShapiroResult(statistic=0.8995055556297302, pvalue=1.3402153626884683e-06)\n",
      "ShapiroResult(statistic=0.937269926071167, pvalue=0.00013190472964197397)\n"
     ]
    }
   ],
   "source": [
    " #проводим тест Шапиро для двух выборок, чтобы сделать вывод о нормальности распределения\n",
    "print(stats.shapiro(df4.site1))\n",
    "print(stats.shapiro(df4.site2))"
   ]
  },
  {
   "cell_type": "markdown",
   "metadata": {},
   "source": [
    "Pvalue в одном и другом случае меньше 0.05, следовательно делаем вывод, что распределение не является нормальным. Т.к. выборки не зависимы друг от друга, то используем критерий Манна-Уитни"
   ]
  },
  {
   "cell_type": "code",
   "execution_count": 22,
   "metadata": {},
   "outputs": [
    {
     "data": {
      "text/plain": [
       "MannwhitneyuResult(statistic=3889.5, pvalue=0.0066646971976911905)"
      ]
     },
     "execution_count": 22,
     "metadata": {},
     "output_type": "execute_result"
    }
   ],
   "source": [
    "stats.mannwhitneyu(df4.site1, df4.site2)"
   ]
  },
  {
   "cell_type": "markdown",
   "metadata": {},
   "source": [
    "Pvalue меньше 0.05, следовательно делаем вывод, что нулевая гипотеза не верна, верна альтернативная гипотеза, т.е. cредний чек по пользователям на сайте 1 отличается от среднего чека пользователей на сайте 2."
   ]
  },
  {
   "cell_type": "markdown",
   "metadata": {},
   "source": [
    "В принципе легко можно посмотреть даже как именно отличается средний чек..."
   ]
  },
  {
   "cell_type": "code",
   "execution_count": 25,
   "metadata": {},
   "outputs": [
    {
     "data": {
      "text/plain": [
       "3442.36"
      ]
     },
     "execution_count": 25,
     "metadata": {},
     "output_type": "execute_result"
    }
   ],
   "source": [
    "sum(df4.site1)/len(df4.site1)"
   ]
  },
  {
   "cell_type": "code",
   "execution_count": 26,
   "metadata": {},
   "outputs": [
    {
     "data": {
      "text/plain": [
       "4557.45"
      ]
     },
     "execution_count": 26,
     "metadata": {},
     "output_type": "execute_result"
    }
   ],
   "source": [
    "sum(df4.site2)/len(df4.site2)"
   ]
  },
  {
   "cell_type": "code",
   "execution_count": null,
   "metadata": {},
   "outputs": [],
   "source": []
  }
 ],
 "metadata": {
  "colab": {
   "collapsed_sections": [],
   "name": "21.7_Практическая работа.ipynb",
   "provenance": []
  },
  "kernelspec": {
   "display_name": "Python 3 (ipykernel)",
   "language": "python",
   "name": "python3"
  },
  "language_info": {
   "codemirror_mode": {
    "name": "ipython",
    "version": 3
   },
   "file_extension": ".py",
   "mimetype": "text/x-python",
   "name": "python",
   "nbconvert_exporter": "python",
   "pygments_lexer": "ipython3",
   "version": "3.9.7"
  }
 },
 "nbformat": 4,
 "nbformat_minor": 1
}
